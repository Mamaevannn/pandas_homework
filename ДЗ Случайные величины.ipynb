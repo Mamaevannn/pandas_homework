{
 "cells": [
  {
   "cell_type": "markdown",
   "id": "8852fc04",
   "metadata": {},
   "source": [
    "Смоделировать игру против лотерейного автомата типа “777”. Игрок платит 1 руб., после чего выпадает случайное целое число, равномерно распределенное от 0 до 999. При некоторых значениях числа игрок получает выигрыш.\n",
    "\n",
    "777: 200 руб.  \n",
    "999: 100 руб.  \n",
    "555: 50 руб.  \n",
    "333: 15 руб.  \n",
    "111: 10 руб.  \n",
    "*77: 5 руб.  \n",
    "**7: 3 руб.  \n",
    "*00: 2 руб.  \n",
    "**0: 1 руб.  \n",
    "\n",
    "Вопросы:\n",
    "\n",
    "Выгодна ли игра игроку?  \n",
    "Сколько в среднем приобретает или теряет игрок за одну игру?  "
   ]
  },
  {
   "cell_type": "code",
   "execution_count": 1,
   "id": "6c0fc1fa",
   "metadata": {},
   "outputs": [],
   "source": [
    "import numpy as np"
   ]
  },
  {
   "cell_type": "code",
   "execution_count": 43,
   "id": "b2c3a6d7",
   "metadata": {},
   "outputs": [
    {
     "name": "stdout",
     "output_type": "stream",
     "text": [
      "Исход: -1 руб.\n",
      "Вероятность выигрыша: 20.37%\n"
     ]
    }
   ],
   "source": [
    "success = {777:200, 999:100, 555:50, 333:15, 111:10}\n",
    "trials = 1000000 #количество попыток\n",
    "money = 0 #выигрыш\n",
    "lost = 0 #количество неудачных попыток\n",
    "\n",
    "for i in range(trials):\n",
    "    random_score = np.random.randint(0,1000)\n",
    "    money =-1\n",
    "    if random_score in success:\n",
    "        money += success[random_score]\n",
    "    elif random_score%100 == 77:\n",
    "        money += 5\n",
    "    elif random_score%10 == 7:\n",
    "        money+=3\n",
    "    elif random_score%100 == 0 or random_score == 000 :\n",
    "        money+=2\n",
    "    elif random_score%10 == 0:\n",
    "        money+=1\n",
    "    else:\n",
    "        lost +=1\n",
    "print(f'Исход: {money} руб.\\nВероятность выигрыша: {(1-lost/trials)*100:.2f}%')\n"
   ]
  },
  {
   "cell_type": "markdown",
   "id": "c27ee50e",
   "metadata": {},
   "source": [
    "Игра не выгодна, поскольку потенциальный \"выигрыш\" после 3 млн попыток составил -1 руб. при вероятности выигрыша 20%"
   ]
  }
 ],
 "metadata": {
  "kernelspec": {
   "display_name": "Python 3 (ipykernel)",
   "language": "python",
   "name": "python3"
  },
  "language_info": {
   "codemirror_mode": {
    "name": "ipython",
    "version": 3
   },
   "file_extension": ".py",
   "mimetype": "text/x-python",
   "name": "python",
   "nbconvert_exporter": "python",
   "pygments_lexer": "ipython3",
   "version": "3.9.13"
  }
 },
 "nbformat": 4,
 "nbformat_minor": 5
}
